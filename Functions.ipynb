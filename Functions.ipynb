{
  "nbformat": 4,
  "nbformat_minor": 0,
  "metadata": {
    "colab": {
      "provenance": []
    },
    "kernelspec": {
      "name": "python3",
      "display_name": "Python 3"
    },
    "language_info": {
      "name": "python"
    }
  },
  "cells": [
    {
      "cell_type": "markdown",
      "source": [],
      "metadata": {
        "id": "dAPAx3mxtMQK"
      }
    },
    {
      "cell_type": "code",
      "execution_count": null,
      "metadata": {
        "id": "zzVDPIcWs3yz"
      },
      "outputs": [],
      "source": []
    },
    {
      "cell_type": "markdown",
      "source": [
        "# Theory Questions:"
      ],
      "metadata": {
        "id": "SoeYXtP8tOi3"
      }
    },
    {
      "cell_type": "markdown",
      "source": [
        "# What is the difference between a function and a method in python?\n"
      ],
      "metadata": {
        "id": "HQKC1fNyt7kZ"
      }
    },
    {
      "cell_type": "markdown",
      "source": [
        "Function: A function is a standalone block of code that performs a specific task.\n",
        "It is defined using the def keyword and can be called independently.\n",
        "Method: A method is a function that is associated with an object and is called on that object.\n",
        "It is defined inside a class and typically operators on the instance of that class."
      ],
      "metadata": {
        "id": "VvfpqaSsudBJ"
      }
    },
    {
      "cell_type": "code",
      "source": [
        "# Example of function\n",
        "def great(name):\n",
        "  return f\"Hello,{name}!\"\n",
        "  print(great(\"Alice\"))\n",
        "  # Example of method:\n",
        "  class Person:\n",
        "      def __init__(self, name):\n",
        "          self.name = name\n",
        "\n",
        "      def greet(self):\n",
        "          return f\"Hello\"\n",
        "\n"
      ],
      "metadata": {
        "colab": {
          "base_uri": "https://localhost:8080/",
          "height": 106
        },
        "id": "kqRz2lTIvmhF",
        "outputId": "46698a8b-779a-4934-c1f6-658df032ce91"
      },
      "execution_count": 4,
      "outputs": [
        {
          "output_type": "error",
          "ename": "SyntaxError",
          "evalue": "invalid syntax (<ipython-input-4-b5852d600ee3>, line 7)",
          "traceback": [
            "\u001b[0;36m  File \u001b[0;32m\"<ipython-input-4-b5852d600ee3>\"\u001b[0;36m, line \u001b[0;32m7\u001b[0m\n\u001b[0;31m    def__init__(self,name):\u001b[0m\n\u001b[0m                          ^\u001b[0m\n\u001b[0;31mSyntaxError\u001b[0m\u001b[0;31m:\u001b[0m invalid syntax\n"
          ]
        }
      ]
    },
    {
      "cell_type": "code",
      "source": [],
      "metadata": {
        "id": "HDMuRC9-wFfP"
      },
      "execution_count": null,
      "outputs": []
    },
    {
      "cell_type": "markdown",
      "source": [
        "# Explain the concept of function arguments and parameters in python."
      ],
      "metadata": {
        "id": "k669WbEvzJm6"
      }
    },
    {
      "cell_type": "markdown",
      "source": [
        "**Parameters** are variable defined in a function declaration. This act as placeholders for trhe values that will be passed to the function.\n",
        "**Arguments** are the actual values that you pass to the function when you call it, These values replace the parameters defined in the function."
      ],
      "metadata": {
        "id": "Fd0wYH8jz2nk"
      }
    },
    {
      "cell_type": "code",
      "source": [
        "# Here a,b are the parameters\n",
        "def sum(a,b):\n",
        "  print(a+b)\n",
        "sum(1,2)"
      ],
      "metadata": {
        "colab": {
          "base_uri": "https://localhost:8080/"
        },
        "id": "DAvi4oYl2nLo",
        "outputId": "7a4432bc-bc23-4078-cdbf-2b5a1f8bf4b3"
      },
      "execution_count": 6,
      "outputs": [
        {
          "output_type": "stream",
          "name": "stdout",
          "text": [
            "3\n"
          ]
        }
      ]
    },
    {
      "cell_type": "code",
      "source": [
        "# Here the values 1,2 are arguments\n",
        "def sum(a,b):\n",
        "  print(a+b)\n",
        "  sum(1,2)"
      ],
      "metadata": {
        "id": "7Vq19U3627ic"
      },
      "execution_count": 8,
      "outputs": []
    },
    {
      "cell_type": "markdown",
      "source": [
        "# What are the Different ways to define and call a function in python?"
      ],
      "metadata": {
        "id": "lR4YtPuw3l9x"
      }
    },
    {
      "cell_type": "markdown",
      "source": [
        "1. Defining a Function\n",
        "\n",
        "To define a function, use the def keyword followed by the function name and parentheses (). If the function accepts parameters, list them within the parentheses. The function's code block starts with a colon : and is indented. Calling a Function\n",
        "\n",
        "2. After defining a function, you can call it by writing its name followed by parentheses.\n",
        "3. Functions with Parameters\n",
        "\n",
        "Functions can accept parameters to make them more flexible.\n",
        "4. Functions with Default Parameters\n",
        "\n",
        "You can provide default values for parameters, which are used if no argument is passed during the function call.\n",
        "5. Arbitrary Number of Arguments\n",
        "\n",
        "If you're unsure how many arguments might be passed to a function, you can use *args for positional arguments and **kwargs for keyword arguments.\n",
        "6. Returning Values from Functions\n",
        "\n",
        "Functions can return values using the return statement.\n",
        "7. Nested Function Calls\n",
        "\n",
        "Functions can call other functions, including themselves (recursion).\n",
        "8. Lambda Functions\n",
        "\n",
        "For small, anonymous functions, you can use lambda expressions.\n",
        "9. Function Definitions and Calls in Conditional Statements\n",
        "\n",
        "You can define and call functions within conditional statements.\n",
        "\n"
      ],
      "metadata": {
        "id": "IGGhj9zM3xDJ"
      }
    },
    {
      "cell_type": "code",
      "source": [
        "def greet(name):\n",
        "    print(f\"Hello, {name}!\")\n",
        "\n",
        "greet(\"Alice\")\n"
      ],
      "metadata": {
        "colab": {
          "base_uri": "https://localhost:8080/"
        },
        "id": "SvJT9CNC8EpW",
        "outputId": "5d3f59ac-8103-47a0-b691-c08de729afc3"
      },
      "execution_count": 9,
      "outputs": [
        {
          "output_type": "stream",
          "name": "stdout",
          "text": [
            "Hello, Alice!\n"
          ]
        }
      ]
    },
    {
      "cell_type": "markdown",
      "source": [
        "# What is the purpose of return statement in python function?"
      ],
      "metadata": {
        "id": "2nvcfH9u9Q7h"
      }
    },
    {
      "cell_type": "markdown",
      "source": [
        "Purpose of the return Statement in a Python Function\n",
        "The return statement in Python is used to send a value back to the caller of the function. It allows a function to compute a result and return it so that it can be used elsewhere in the program."
      ],
      "metadata": {
        "id": "DfLdRV4i9YDw"
      }
    },
    {
      "cell_type": "code",
      "source": [
        "def add(a, b):\n",
        "    return a + b\n",
        "\n",
        "result = add(5, 3)\n",
        "print(result)\n"
      ],
      "metadata": {
        "colab": {
          "base_uri": "https://localhost:8080/"
        },
        "id": "JIM7tRFy9bI-",
        "outputId": "aacc3e8f-429c-4e03-83f1-e9dc1bdb1222"
      },
      "execution_count": 10,
      "outputs": [
        {
          "output_type": "stream",
          "name": "stdout",
          "text": [
            "8\n"
          ]
        }
      ]
    },
    {
      "cell_type": "code",
      "source": [],
      "metadata": {
        "id": "Gha1HdjV9jNm"
      },
      "execution_count": null,
      "outputs": []
    },
    {
      "cell_type": "markdown",
      "source": [
        "# What are iteration in python and how do they differ from iterables?"
      ],
      "metadata": {
        "id": "pZ72DWqB9ma1"
      }
    },
    {
      "cell_type": "markdown",
      "source": [
        "In Python, understanding the concepts of iteration, iterables, and iterators is crucial for effective coding.\n",
        "\n",
        "Iteration refers to the process of accessing each item in a collection, one after another. This is commonly achieved using loops, such as for loops, to traverse through elements in sequences like lists, tuples, or strings.\n",
        "\n",
        "Iterables are objects capable of returning their members one at a time. Examples include lists, tuples, strings, dictionaries, and sets. An object is considered iterable if it implements the __iter__() method, which returns an iterator, or the __getitem__() method, which allows indexed access. Essentially, if an object can be used in a for loop, it is iterable.\n",
        "\n",
        "Iterators are objects that represent a stream of data; they return one element at a time when iterated over. An iterator must implement two methods:\n",
        "\n",
        "__iter__(): Returns the iterator object itself.\n",
        "__next__(): Returns the next element in the sequence. If there are no more items to return, it raises a StopIteration exception."
      ],
      "metadata": {
        "id": "0jZJ-AC5-KWz"
      }
    },
    {
      "cell_type": "markdown",
      "source": [
        "# Explain the concept of generation in python and how they are defined."
      ],
      "metadata": {
        "id": "fAZ60kXU-NzT"
      }
    },
    {
      "cell_type": "markdown",
      "source": [
        "In Python, generators are a special type of function that enable the creation of iterators in a simple, concise manner. Unlike regular functions that return a single value and terminate, generators can yield a sequence of values over time, pausing and resuming their state between each yield. This feature is particularly useful for handling large datasets or streams where generating all values at once would be resource-intensive.\n",
        "\n",
        "Defining a Generator Function\n",
        "\n",
        "A generator function is defined similarly to a regular function but uses the yield statement instead of return to provide a value and pause its execution. When the generator's __next__() method is called, the function resumes execution right after the last yield statement.\n",
        "Using Generators\n",
        "\n",
        "Generators are commonly used in loops or with functions that iterate over sequences. They provide a memory-efficient way to handle large data streams because they generate items one at a time and only when required.\n",
        "Generator Expressions\n",
        "\n",
        "Python also offers generator expressions, which are similar to list comprehensions but generate items lazily. This means they produce items one at a time and only when needed, which can lead to improved performance and reduced memory usage.\n",
        "Benefits of Generators\n",
        "\n",
        "Memory Efficiency: Generators yield items one at a time, which is more memory-efficient than generating an entire list in memory, especially for large datasets.\n",
        "\n",
        "Improved Performance: Since generators produce items only when needed, they can lead to performance improvements in scenarios where not all items are required at once.\n",
        "\n",
        "Simplified Code: Generators allow for writing cleaner and more readable code, particularly when dealing with complex iterators."
      ],
      "metadata": {
        "id": "Y_yaDfQO--0C"
      }
    },
    {
      "cell_type": "markdown",
      "source": [
        "# What are the advantages of using generators over regular functions?"
      ],
      "metadata": {
        "id": "r1Qgxb-9A3GT"
      }
    },
    {
      "cell_type": "markdown",
      "source": [
        "Generators offer several advantages over regular functions, particularly in terms of memory efficiency, performance, and code readability.\n",
        "1. Memory Efficiency\n",
        "Generators yield one item at a time instead of storing the entire sequence in memory. This is beneficial when working with large datasets or infinite sequences.\n",
        "2. Lazy Evaluation (On-Demand Execution)\n",
        "Generators compute values only when needed, rather than processing everything at once.\n",
        "3. Faster Execution (Avoids Unnecessary Computations)\n",
        "Since generators pause execution after yield and resume only when required, they avoid unnecessary computations.\n",
        "4. Simplified Code & Improved Readability\n",
        "Generators eliminate the need for manual state management (e.g., using indexes or temporary variables).\n",
        "5. Supports Pipelines (Chaining Generators)\n",
        "Generators can be chained together to process large data in stages.\n",
        "6. Enables Iterating Over Large Files (Efficient I/O Operations)\n",
        "Generators efficiently read large files line by line without loading the entire file into memory.\n"
      ],
      "metadata": {
        "id": "eIkKHEi5B_1F"
      }
    },
    {
      "cell_type": "markdown",
      "source": [],
      "metadata": {
        "id": "-xM89h9OBiVV"
      }
    },
    {
      "cell_type": "code",
      "source": [
        "def generate_numbers(n):\n",
        "    for i in range(n):\n",
        "        yield i\n"
      ],
      "metadata": {
        "id": "syoXVFc1DACn"
      },
      "execution_count": 16,
      "outputs": []
    },
    {
      "cell_type": "markdown",
      "source": [
        "# what is a lambda function in python and when is it typically used?"
      ],
      "metadata": {
        "id": "ESZhfu7yDG4G"
      }
    },
    {
      "cell_type": "markdown",
      "source": [
        "In Python, a lambda function is a small, anonymous function defined using the lambda keyword. Unlike regular functions defined with def, lambda functions are limited to a single expression and do not require a name. They can take any number of arguments but can only have one expression.\n",
        "Typical Uses of Lambda Functions:\n",
        "\n",
        "Short-Term, Inline Operations: Lambda functions are often used for small, throwaway functions that are not reused elsewhere in the code.\n",
        "DISCUSS.PYTHON.ORG\n",
        "\n",
        "Higher-Order Functions: They are commonly used with functions like map(), filter(), and sorted() where a function is required as an argument.\n",
        "\n",
        "map() Function: Applies a function to all items in an input list."
      ],
      "metadata": {
        "id": "JeeoM94-D57I"
      }
    },
    {
      "cell_type": "code",
      "source": [
        "numbers = [1, 2, 3, 4]\n",
        "squared = list(map(lambda x: x ** 2, numbers))\n",
        "print(squared)\n"
      ],
      "metadata": {
        "colab": {
          "base_uri": "https://localhost:8080/"
        },
        "id": "dV2_NzmkEceZ",
        "outputId": "ed7dcea9-ba2a-4010-9ae3-dfd2c610d951"
      },
      "execution_count": 17,
      "outputs": [
        {
          "output_type": "stream",
          "name": "stdout",
          "text": [
            "[1, 4, 9, 16]\n"
          ]
        }
      ]
    },
    {
      "cell_type": "markdown",
      "source": [
        "# explain the purposes and usages of the map() function in python."
      ],
      "metadata": {
        "id": "mwMHHe_xEkSk"
      }
    },
    {
      "cell_type": "markdown",
      "source": [
        "In Python, the map() function is a built-in utility that applies a specified function to each item of an iterable (such as a list, tuple, or set) and returns an iterator with the results. This approach allows for efficient and concise processing of data without the need for explicit loops"
      ],
      "metadata": {
        "id": "kHTpSgyiFDrA"
      }
    },
    {
      "cell_type": "markdown",
      "source": [
        "# what is the difference between map(), reduce() and filter() functions in python?"
      ],
      "metadata": {
        "id": "4AM2xJBOFuSu"
      }
    },
    {
      "cell_type": "markdown",
      "source": [
        "In Python, map(), filter(), and reduce() are higher-order functions that facilitate functional programming paradigms, allowing for concise and efficient data processing. Each serves a distinct purpose:\n",
        "\n",
        "map() Function:\n",
        "\n",
        "Purpose: Applies a specified function to each item of an iterable (e.g., list, tuple) and returns an iterator with the results.\n",
        "filter() Function:\n",
        "\n",
        "Purpose: Filters elements in an iterable by applying a function that returns a Boolean value (True or False). Only elements for which the function returns True are included in the resulting iterator.\n",
        "reduce() Function:\n",
        "\n",
        "Purpose: Applies a specified function cumulatively to the items of an iterable, reducing the iterable to a single value.\n",
        "Summary of Differences:\n",
        "\n",
        "Operation Type:\n",
        "\n",
        "map(): Transforms each element independently.\n",
        "filter(): Selects elements based on a condition.\n",
        "reduce(): Combines elements to produce a single result.\n",
        "\n"
      ],
      "metadata": {
        "id": "vKNRbBMaGTOT"
      }
    },
    {
      "cell_type": "markdown",
      "source": [
        "#** practical questions:**"
      ],
      "metadata": {
        "id": "XUtayPxxG1N8"
      }
    },
    {
      "cell_type": "markdown",
      "source": [
        "# write a python functions that task takes a list of numbersw as input and returns the sum of alleven numbers in the list."
      ],
      "metadata": {
        "id": "HXCKjQkbHHto"
      }
    },
    {
      "cell_type": "code",
      "source": [
        "def sum_of_evens(numbers):\n",
        "    return sum(num for num in numbers if num % 2 == 0)\n",
        "\n",
        "# Example usage\n",
        "numbers_list = [1, 2, 3, 4, 5, 6, 7, 8, 9, 10]\n",
        "result = sum_of_evens(numbers_list)\n",
        "print(\"Sum of even numbers:\", result)\n"
      ],
      "metadata": {
        "colab": {
          "base_uri": "https://localhost:8080/"
        },
        "id": "IpSKoN987lsh",
        "outputId": "e142e044-3a23-4eab-f388-cb3da23e9630"
      },
      "execution_count": 1,
      "outputs": [
        {
          "output_type": "stream",
          "name": "stdout",
          "text": [
            "Sum of even numbers: 30\n"
          ]
        }
      ]
    },
    {
      "cell_type": "markdown",
      "source": [],
      "metadata": {
        "id": "ybNafKeu7Itk"
      }
    },
    {
      "cell_type": "markdown",
      "source": [
        "# Create a python function that accepts a string and return the reverse of that string."
      ],
      "metadata": {
        "id": "LKfTx_4V7p01"
      }
    },
    {
      "cell_type": "code",
      "source": [
        "def reverse_string(s):\n",
        "    return s[::-1]\n",
        "input_string = \"Hello, World!\"\n",
        "reversed_string = reverse_string(input_string)\n",
        "print(\"Reversed String:\", reversed_string)\n"
      ],
      "metadata": {
        "colab": {
          "base_uri": "https://localhost:8080/"
        },
        "id": "45NeO-FT8RUt",
        "outputId": "3631e0bb-a8ae-47c4-866f-dadc0fe24988"
      },
      "execution_count": 2,
      "outputs": [
        {
          "output_type": "stream",
          "name": "stdout",
          "text": [
            "Reversed String: !dlroW ,olleH\n"
          ]
        }
      ]
    },
    {
      "cell_type": "markdown",
      "source": [
        "# Impliment a python function that takes a list of integers and returns a new list containing the squares of each number."
      ],
      "metadata": {
        "id": "G-9not9k8cpk"
      }
    },
    {
      "cell_type": "code",
      "source": [
        "def square_numbers(numbers):\n",
        "    return [num ** 2 for num in numbers]\n",
        "numbers_list = [1, 2, 3, 4, 5]\n",
        "squared_list = square_numbers(numbers_list)\n",
        "print(\"Squared Numbers:\", squared_list)"
      ],
      "metadata": {
        "colab": {
          "base_uri": "https://localhost:8080/"
        },
        "id": "YvKW1T6G88QY",
        "outputId": "891fe795-60bb-4f68-f450-27a1518311d3"
      },
      "execution_count": 3,
      "outputs": [
        {
          "output_type": "stream",
          "name": "stdout",
          "text": [
            "Squared Numbers: [1, 4, 9, 16, 25]\n"
          ]
        }
      ]
    },
    {
      "cell_type": "markdown",
      "source": [
        "# Write a python function that checks if a given no is prime or not from 1 to 200."
      ],
      "metadata": {
        "id": "-EdBIvfm9KK7"
      }
    },
    {
      "cell_type": "code",
      "source": [
        "def is_prime(n):\n",
        "    if n < 2:\n",
        "        return False\n",
        "    for i in range(2, int(n ** 0.5) + 1):\n",
        "        if n % i == 0:\n",
        "            return False\n",
        "    return True\n",
        "primes = [num for num in range(1, 201) if is_prime(num)]\n",
        "print(\"Prime numbers from 1 to 200:\", primes)\n"
      ],
      "metadata": {
        "colab": {
          "base_uri": "https://localhost:8080/"
        },
        "id": "XiCbHKXJ9mx3",
        "outputId": "706cc781-f177-4c91-e8ef-68d9d8400a4a"
      },
      "execution_count": 4,
      "outputs": [
        {
          "output_type": "stream",
          "name": "stdout",
          "text": [
            "Prime numbers from 1 to 200: [2, 3, 5, 7, 11, 13, 17, 19, 23, 29, 31, 37, 41, 43, 47, 53, 59, 61, 67, 71, 73, 79, 83, 89, 97, 101, 103, 107, 109, 113, 127, 131, 137, 139, 149, 151, 157, 163, 167, 173, 179, 181, 191, 193, 197, 199]\n"
          ]
        }
      ]
    },
    {
      "cell_type": "markdown",
      "source": [
        "# Create and iterator class in python that generates the fibonacci sequence upto a specified number of terms."
      ],
      "metadata": {
        "id": "p3oZlGXX90Ow"
      }
    },
    {
      "cell_type": "code",
      "source": [
        "class FibonacciIterator:\n",
        "    def __init__(self, n_terms):\n",
        "        self.n_terms = n_terms\n",
        "        self.a, self.b = 0, 1\n",
        "        self.count = 0\n",
        "\n",
        "    def __iter__(self):\n",
        "        return self\n",
        "\n",
        "    def __next__(self):\n",
        "        if self.count >= self.n_terms:\n",
        "            raise StopIteration\n",
        "\n",
        "        fib_number = self.a\n"
      ],
      "metadata": {
        "id": "2FmA6j8p-WcA"
      },
      "execution_count": 9,
      "outputs": []
    },
    {
      "cell_type": "markdown",
      "source": [
        "# write a generator function in python that yields the powers of two upto given exponent."
      ],
      "metadata": {
        "id": "GKMrZ1Aq-wGx"
      }
    },
    {
      "cell_type": "code",
      "source": [
        "def powers_of_two(exponent):\n",
        "    for i in range(exponent + 1):\n",
        "        yield 2 ** i\n",
        "for power in powers_of_two(5):\n",
        "    print(power)\n"
      ],
      "metadata": {
        "colab": {
          "base_uri": "https://localhost:8080/"
        },
        "id": "h1wA4kG6-9Nd",
        "outputId": "80e2b7af-34e7-47ed-9368-bae8d40572ac"
      },
      "execution_count": 10,
      "outputs": [
        {
          "output_type": "stream",
          "name": "stdout",
          "text": [
            "1\n",
            "2\n",
            "4\n",
            "8\n",
            "16\n",
            "32\n"
          ]
        }
      ]
    },
    {
      "cell_type": "markdown",
      "source": [
        "# Impliment a generator function that reads a file line by line and yields each line as a string."
      ],
      "metadata": {
        "id": "OVciRE5G_SkV"
      }
    },
    {
      "cell_type": "code",
      "source": [
        "def read_file_line_by_line(file_path):\n",
        "    \"\"\"Generator function to read a file line by line.\"\"\"\n",
        "    try:\n",
        "        with open(file_path, 'r', encoding='utf-8') as file:\n",
        "            for line in file:\n",
        "                yield line.strip()\n",
        "    except FileNotFoundError:\n",
        "        print(f\"Error: The file '{file_path}' was not found.\")\n",
        "\n",
        "\n",
        "file_path = \"example.txt\"\n",
        "for line in read_file_line_by_line(file_path):\n",
        "    print(line)"
      ],
      "metadata": {
        "colab": {
          "base_uri": "https://localhost:8080/"
        },
        "id": "y-kNpqhPBCII",
        "outputId": "ce12f683-a38f-4ede-89cc-d7c2d5faecd0"
      },
      "execution_count": 15,
      "outputs": [
        {
          "output_type": "stream",
          "name": "stdout",
          "text": [
            "Error: The file 'example.txt' was not found.\n"
          ]
        }
      ]
    },
    {
      "cell_type": "markdown",
      "source": [
        "# Use a lambda function in python to sort a list of tuples besed on a second element of each tuple."
      ],
      "metadata": {
        "id": "-kPYJ9BtBOAg"
      }
    },
    {
      "cell_type": "code",
      "source": [
        "\n",
        "data = [(1, 5), (3, 2), (4, 8), (2, 1), (5, 4)]\n",
        "\n",
        "sorted_data = sorted(data, key=lambda x: x[1])\n",
        "print(sorted_data)\n"
      ],
      "metadata": {
        "colab": {
          "base_uri": "https://localhost:8080/"
        },
        "id": "dTnTJVy_BoTv",
        "outputId": "9d00758a-538f-4ed2-c837-9dfa4ef49432"
      },
      "execution_count": 16,
      "outputs": [
        {
          "output_type": "stream",
          "name": "stdout",
          "text": [
            "[(2, 1), (3, 2), (5, 4), (1, 5), (4, 8)]\n"
          ]
        }
      ]
    },
    {
      "cell_type": "markdown",
      "source": [
        "# Write a python program that uses map() to convert a list of temperatures from celsious to fahrenheit."
      ],
      "metadata": {
        "id": "zJd0HJS7CBuG"
      }
    },
    {
      "cell_type": "code",
      "source": [
        "\n",
        "def celsius_to_fahrenheit(celsius):\n",
        "    return (celsius * 9/5) + 32\n",
        "celsius_temperatures = [0, 10, 20, 30, 40, 100]\n",
        "fahrenheit_temperatures = list(map(celsius_to_fahrenheit, celsius_temperatures))\n",
        "\n",
        "\n"
      ],
      "metadata": {
        "id": "u0ugF-3OCmnb"
      },
      "execution_count": 18,
      "outputs": []
    },
    {
      "cell_type": "markdown",
      "source": [
        "# create a python program that uses filter() to remove all the vowels from a given string."
      ],
      "metadata": {
        "id": "-L_2Ot_dC3L1"
      }
    },
    {
      "cell_type": "code",
      "source": [
        "def remove_vowels(string):\n",
        "    vowels = \"aeiouAEIOU\"\n",
        "    return \"\".join(filter(lambda char: char not in vowels, string))\n",
        "input_string = \"Hello, World!\"\n",
        "result = remove_vowels(input_string)\n",
        "\n",
        "print(\"Original String:\", input_string)\n",
        "print(\"String Without Vowels:\", result)\n"
      ],
      "metadata": {
        "colab": {
          "base_uri": "https://localhost:8080/"
        },
        "id": "OfAXtayMDDgY",
        "outputId": "1b4324d4-4d32-4da4-e5d3-b313faa862b8"
      },
      "execution_count": 19,
      "outputs": [
        {
          "output_type": "stream",
          "name": "stdout",
          "text": [
            "Original String: Hello, World!\n",
            "String Without Vowels: Hll, Wrld!\n"
          ]
        }
      ]
    },
    {
      "cell_type": "code",
      "source": [],
      "metadata": {
        "id": "2H4im665DaOQ"
      },
      "execution_count": null,
      "outputs": []
    }
  ]
}